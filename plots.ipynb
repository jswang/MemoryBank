{
 "cells": [
  {
   "cell_type": "code",
   "execution_count": 2,
   "metadata": {},
   "outputs": [],
   "source": [
    "from binascii import a2b_qp\n",
    "import json\n",
    "from nis import match\n",
    "from MemoryEntry import MemoryEntry\n",
    "from MemoryBank import MemoryBank\n",
    "from typing import List\n",
    "import argparse\n",
    "from MemoryBank import MemoryBank\n",
    "from tqdm import tqdm\n",
    "from consistency import check_consistency, Implication, check_accuracy\n",
    "import utils\n",
    "import json\n",
    "import torch\n",
    "import sklearn\n",
    "import matplotlib.pyplot as plt\n",
    "from models import *\n",
    "import tensorflow as tf\n",
    "import numpy as np\n",
    "from tqdm import tqdm\n",
    "\n",
    "import torch\n",
    "\n"
   ]
  },
  {
   "cell_type": "code",
   "execution_count": 3,
   "metadata": {},
   "outputs": [],
   "source": [
    "def find(data, constraint):\n",
    "    for d in data:\n",
    "        if d.relation == constraint.source and d.answer == constraint.ans[0]:\n",
    "            return d.entity\n",
    "    return 'It'\n",
    "\n",
    "def test_constraint_knowledge(config=baseline_config, contra_test=False):\n",
    "    constraints = json.load(open(\"data/constraints_v2.json\"))\n",
    "    constraints = [Implication(c) for c in constraints[\"links\"]]\n",
    "    data_filename = f\"data/silver_facts.json\"\n",
    "    data = utils.json_to_tuples(json.load(open(data_filename)))\n",
    "\n",
    "    yess = []\n",
    "    nos = []\n",
    "    for d in data:\n",
    "        m = MemoryEntry(d[0], d[1], answer=d[2])\n",
    "        if m.answer == 'yes':\n",
    "            yess += [m]\n",
    "        else:\n",
    "            nos += [m]\n",
    "\n",
    "    bank = MemoryBank(config)\n",
    "    entity_results_entailment = []\n",
    "    entity_results_neutral = []\n",
    "    entity_results_contradiction = []\n",
    "    for constraint in tqdm(constraints):\n",
    "        # find an entity for which this is true\n",
    "        entity = find(yess, constraint)\n",
    "        a = MemoryEntry(entity=entity, relation=constraint.source, answer=constraint.ans[0])\n",
    "        b = MemoryEntry(entity=entity, relation=constraint.target, answer=constraint.ans[1])\n",
    "        if contra_test:\n",
    "            if b.answer == 'yes':\n",
    "                b.answer = 'no'\n",
    "            elif b.answer == 'no':\n",
    "                b.answer = 'yes'\n",
    "        e_result =bank.get_relation(a.get_declarative_statement(), b.get_declarative_statement())\n",
    "        entity_results_entailment += [e_result[0]]\n",
    "        entity_results_neutral += [e_result[1]]\n",
    "        entity_results_contradiction += [e_result[2]]\n",
    "    \n",
    "    all_results = np.vstack((entity_results_entailment, entity_results_neutral, entity_results_contradiction))\n",
    "    decision = np.argmax(all_results, axis=0)\n",
    "    print(f\"Entailment: {np.sum(decision == 0)}, Neutral: {np.sum(decision == 1)}, Contradiction: {np.sum(decision == 2)}\")\n",
    "    return entity_results_entailment, entity_results_neutral, entity_results_contradiction"
   ]
  },
  {
   "cell_type": "code",
   "execution_count": 4,
   "metadata": {},
   "outputs": [
    {
     "name": "stderr",
     "output_type": "stream",
     "text": [
      "100%|██████████| 4060/4060 [01:26<00:00, 47.08it/s]"
     ]
    },
    {
     "name": "stdout",
     "output_type": "stream",
     "text": [
      "Entailment: 1750, Neutral: 2115, Contradiction: 195\n"
     ]
    },
    {
     "name": "stderr",
     "output_type": "stream",
     "text": [
      "\n"
     ]
    }
   ],
   "source": [
    "orig = test_constraint_knowledge(baseline_config)"
   ]
  },
  {
   "cell_type": "code",
   "execution_count": 9,
   "metadata": {},
   "outputs": [
    {
     "data": {
      "image/png": "[encoded data removed]",
      "text/plain": [
       "<Figure size 432x288 with 1 Axes>"
      ]
     },
     "metadata": {
      "needs_background": "light"
     },
     "output_type": "display_data"
    }
   ],
   "source": [
    "def plot(title, entity_results_entailment, entity_results_neutral, entity_results_contradiction):\n",
    "    plt.hist([entity_results_entailment, entity_results_neutral, entity_results_contradiction], range=(0, 1), label=[\"Entailment\", \"Neutral\", \"Contradiction\"])\n",
    "    plt.legend()\n",
    "    plt.xlabel(\"Probability of Entailment/Neutral/Contradiction\")\n",
    "    plt.ylabel(\"Count\")\n",
    "    plt.title(title)\n",
    "    plt.savefig(f\"final_figures/{title.replace('/', '_')}.png\", dpi=1200)\n",
    "    plt.show()\n",
    "    plt.close()\n",
    "plot(\"Predictions on constraints by ynie-roberta\", *orig)"
   ]
  },
  {
   "cell_type": "markdown",
   "metadata": {},
   "source": [
    "What if we flip the hypothesis and look for contradictions?\n",
    "For example the constraint \"IsA,cat\" -> \"HasA,hair\" directly doesn't yield entailment:\n",
    "It is a cat. </s></s> It has hair\n",
    "CONTRADICTION 0.006\n",
    "NEUTRAL 0.731\n",
    "ENTAILMENT 0.262\n",
    "But the contradiction: \"It is a cat. </s></s> It does not have hair\" yield contradiction:\n",
    "CONTRADICTION 0.952\n",
    "NEUTRAL 0.045\n",
    "ENTAILMENT 0.004\n",
    "\n",
    "But what about statements that are truly neutral? \n",
    "A dog has a nose. </s></s> A dog is not a table\n",
    "CONTRADICTION 0.180\n",
    "NEUTRAL 0.398\n",
    "ENTAILMENT 0.422"
   ]
  },
  {
   "cell_type": "code",
   "execution_count": 12,
   "metadata": {},
   "outputs": [
    {
     "name": "stderr",
     "output_type": "stream",
     "text": [
      "100%|██████████| 4060/4060 [01:25<00:00, 47.69it/s]\n"
     ]
    },
    {
     "name": "stdout",
     "output_type": "stream",
     "text": [
      "Entailment: 445, Neutral: 1472, Contradiction: 2143\n"
     ]
    },
    {
     "data": {
      "image/png": "[encoded data removed]",
      "text/plain": [
       "<Figure size 432x288 with 1 Axes>"
      ]
     },
     "metadata": {
      "needs_background": "light"
     },
     "output_type": "display_data"
    }
   ],
   "source": [
    "orig_contra = test_constraint_knowledge(baseline_config, contra_test=True)\n",
    "plot(\"Predictions on contradicted constraints by ynie-roberta\", *orig_contra)"
   ]
  },
  {
   "cell_type": "code",
   "execution_count": 13,
   "metadata": {},
   "outputs": [
    {
     "data": {
      "application/vnd.jupyter.widget-view+json": {
       "model_id": "5fb8aa510dd143749034d4bbc0221517",
       "version_major": 2,
       "version_minor": 0
      },
      "text/plain": [
       "Downloading:   0%|          | 0.00/688 [00:00<?, ?B/s]"
      ]
     },
     "metadata": {},
     "output_type": "display_data"
    },
    {
     "data": {
      "application/vnd.jupyter.widget-view+json": {
       "model_id": "4c602ebb6bd8467aba91e910e4dae4ec",
       "version_major": 2,
       "version_minor": 0
      },
      "text/plain": [
       "Downloading:   0%|          | 0.00/878k [00:00<?, ?B/s]"
      ]
     },
     "metadata": {},
     "output_type": "display_data"
    },
    {
     "data": {
      "application/vnd.jupyter.widget-view+json": {
       "model_id": "8ed62ab8477740148600cd568d6a6900",
       "version_major": 2,
       "version_minor": 0
      },
      "text/plain": [
       "Downloading:   0%|          | 0.00/446k [00:00<?, ?B/s]"
      ]
     },
     "metadata": {},
     "output_type": "display_data"
    },
    {
     "data": {
      "application/vnd.jupyter.widget-view+json": {
       "model_id": "0bb7f6b12b294056b445d644f8ded863",
       "version_major": 2,
       "version_minor": 0
      },
      "text/plain": [
       "Downloading:   0%|          | 0.00/1.29M [00:00<?, ?B/s]"
      ]
     },
     "metadata": {},
     "output_type": "display_data"
    },
    {
     "data": {
      "application/vnd.jupyter.widget-view+json": {
       "model_id": "61254be0e1574cfc9d11feb2952a0c66",
       "version_major": 2,
       "version_minor": 0
      },
      "text/plain": [
       "Downloading:   0%|          | 0.00/1.33G [00:00<?, ?B/s]"
      ]
     },
     "metadata": {},
     "output_type": "display_data"
    },
    {
     "name": "stderr",
     "output_type": "stream",
     "text": [
      "100%|██████████| 4060/4060 [01:24<00:00, 48.08it/s]"
     ]
    },
    {
     "name": "stdout",
     "output_type": "stream",
     "text": [
      "Entailment: 1597, Neutral: 2075, Contradiction: 388\n"
     ]
    },
    {
     "name": "stderr",
     "output_type": "stream",
     "text": [
      "\n"
     ]
    }
   ],
   "source": [
    "roberta = test_constraint_knowledge(roberta_flip_config)"
   ]
  },
  {
   "cell_type": "code",
   "execution_count": 15,
   "metadata": {},
   "outputs": [
    {
     "data": {
      "image/png": "[encoded data removed]",
      "text/plain": [
       "<Figure size 432x288 with 1 Axes>"
      ]
     },
     "metadata": {
      "needs_background": "light"
     },
     "output_type": "display_data"
    }
   ],
   "source": [
    "# note that entail and contradiction are flipped\n",
    "plot(\"Predictions on constraints by roberta-large-mnli\", roberta[2], roberta[1], roberta[0])"
   ]
  },
  {
   "cell_type": "code",
   "execution_count": 18,
   "metadata": {},
   "outputs": [
    {
     "name": "stderr",
     "output_type": "stream",
     "text": [
      "100%|██████████| 4060/4060 [01:23<00:00, 48.42it/s]"
     ]
    },
    {
     "name": "stdout",
     "output_type": "stream",
     "text": [
      "Entailment: 157, Neutral: 619, Contradiction: 3284\n"
     ]
    },
    {
     "name": "stderr",
     "output_type": "stream",
     "text": [
      "\n"
     ]
    }
   ],
   "source": [
    "roberta_contra = test_constraint_knowledge(roberta_flip_config, contra_test=True)"
   ]
  },
  {
   "cell_type": "code",
   "execution_count": 19,
   "metadata": {},
   "outputs": [
    {
     "data": {
      "image/png": "[encoded data removed]",
      "text/plain": [
       "<Figure size 432x288 with 1 Axes>"
      ]
     },
     "metadata": {
      "needs_background": "light"
     },
     "output_type": "display_data"
    }
   ],
   "source": [
    "# note that entail and contradiction are flipped\n",
    "plot(\"Predictions on contradicted constraints by roberta-large-mnli\", roberta_contra[2], roberta_contra[1], roberta_contra[0])\n"
   ]
  },
  {
   "cell_type": "markdown",
   "metadata": {},
   "source": [
    "Now get final results for each model"
   ]
  },
  {
   "cell_type": "code",
   "execution_count": 20,
   "metadata": {},
   "outputs": [],
   "source": [
    "data_filename = \"data/silver_facts_test.json\"\n",
    "data = utils.json_to_tuples(json.load(open(data_filename)))\n",
    "constraints = json.load(open(\"data/constraints_v2.json\"))\n",
    "constraints = [Implication(c) for c in constraints[\"links\"]]"
   ]
  },
  {
   "cell_type": "code",
   "execution_count": null,
   "metadata": {},
   "outputs": [],
   "source": [
    "from datetime import datetime\n",
    "from torch.utils.tensorboard import SummaryWriter\n",
    "from run import *\n",
    "\n",
    "for config in [baseline_config, flip_config]:\n",
    "    date_time = datetime.fromtimestamp(datetime.timestamp(\n",
    "        datetime.now())).strftime('%m_%d_%H:%M:%S')\n",
    "    mem_bank = MemoryBank(config)\n",
    "    writer = SummaryWriter(log_dir=f\"runs/{date_time}\")\n",
    "    f1_scores, consistencies = evaluate_model(\n",
    "        mem_bank, data, writer, constraints, batch_size=args.batch_size)\n",
    "    save_data(config, f1_scores, consistencies, date_time)\n",
    "    plot(f1_scores, consistencies, config, date_time)"
   ]
  }
 ],
 "metadata": {
  "interpreter": {
   "hash": "dfa69e24cdc6a214eec5ca2110332f4df401bd539d85ee0454b68abea9fb8226"
  },
  "kernelspec": {
   "display_name": "Python 3.9.1 ('env': venv)",
   "language": "python",
   "name": "python3"
  },
  "language_info": {
   "codemirror_mode": {
    "name": "ipython",
    "version": 3
   },
   "file_extension": ".py",
   "mimetype": "text/x-python",
   "name": "python",
   "nbconvert_exporter": "python",
   "pygments_lexer": "ipython3",
   "version": "3.8.12"
  },
  "orig_nbformat": 4
 },
 "nbformat": 4,
 "nbformat_minor": 2
}
