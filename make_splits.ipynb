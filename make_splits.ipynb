{
 "cells": [
  {
   "cell_type": "markdown",
   "metadata": {},
   "source": []
  },
  {
   "cell_type": "code",
   "execution_count": 17,
   "metadata": {},
   "outputs": [],
   "source": [
    "import utils\n",
    "import json\n",
    "from collections import defaultdict\n",
    "import random"
   ]
  },
  {
   "cell_type": "code",
   "execution_count": 18,
   "metadata": {},
   "outputs": [],
   "source": [
    "data = utils.json_to_tuples(json.load(open(\"data/silver_facts.json\")))\n",
    "random.seed(64)\n",
    "random.shuffle(data)"
   ]
  },
  {
   "cell_type": "code",
   "execution_count": 19,
   "metadata": {},
   "outputs": [],
   "source": [
    "VAL_PCT = .2\n",
    "split_idx = int(len(data) * VAL_PCT)\n",
    "val = data[:split_idx]\n",
    "test = data[split_idx:]"
   ]
  },
  {
   "cell_type": "code",
   "execution_count": 20,
   "metadata": {},
   "outputs": [],
   "source": [
    "d = defaultdict(lambda : {})\n",
    "for entity, relation, answer in val:\n",
    "    d[entity][relation] = answer\n",
    "\n",
    "with open('data/silver_facts_val.json', 'w') as f:\n",
    "    json.dump(d, f)\n",
    "        "
   ]
  },
  {
   "cell_type": "code",
   "execution_count": 21,
   "metadata": {},
   "outputs": [],
   "source": [
    "d = defaultdict(lambda : {})\n",
    "for entity, relation, answer in test:\n",
    "    d[entity][relation] = answer\n",
    "\n",
    "with open('data/silver_facts_test.json', 'w') as f:\n",
    "    json.dump(d, f)\n",
    "        "
   ]
  }
 ],
 "metadata": {
  "interpreter": {
   "hash": "36425f52c2d70ca35494b09c6a43fbe531c1a31a7612b4fb43fd3685ca29a299"
  },
  "kernelspec": {
   "display_name": "Python 3.9.10 ('env': venv)",
   "language": "python",
   "name": "python3"
  },
  "language_info": {
   "codemirror_mode": {
    "name": "ipython",
    "version": 3
   },
   "file_extension": ".py",
   "mimetype": "text/x-python",
   "name": "python",
   "nbconvert_exporter": "python",
   "pygments_lexer": "ipython3",
   "version": "3.9.10"
  },
  "orig_nbformat": 4
 },
 "nbformat": 4,
 "nbformat_minor": 2
}
